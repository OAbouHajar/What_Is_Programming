{
 "metadata": {
  "language_info": {
   "codemirror_mode": {
    "name": "ipython",
    "version": 3
   },
   "file_extension": ".py",
   "mimetype": "text/x-python",
   "name": "python",
   "nbconvert_exporter": "python",
   "pygments_lexer": "ipython3",
   "version": "3.8.2"
  },
  "orig_nbformat": 4,
  "kernelspec": {
   "name": "python3",
   "display_name": "Python 3.8.2 64-bit"
  },
  "interpreter": {
   "hash": "31f2aee4e71d21fbe5cf8b01ff0e069b9275f58929596ceb00d14d90e3e16cd6"
  }
 },
 "nbformat": 4,
 "nbformat_minor": 2,
 "cells": [
  {
   "cell_type": "code",
   "execution_count": 16,
   "metadata": {},
   "outputs": [],
   "source": [
    "url = 'https://api.openweathermap.org/data/2.5/weather?q=portlaoise&units=metric&APPID=48f2d5e18b0d2bc50519b58cce6409f1'"
   ]
  },
  {
   "cell_type": "code",
   "execution_count": 17,
   "metadata": {},
   "outputs": [
    {
     "output_type": "execute_result",
     "data": {
      "text/plain": [
       "'https://api.openweathermap.org/data/2.5/weather?q=portlaoise&units=metric&APPID=48f2d5e18b0d2bc50519b58cce6409f1'"
      ]
     },
     "metadata": {},
     "execution_count": 17
    }
   ],
   "source": [
    "url"
   ]
  },
  {
   "cell_type": "code",
   "execution_count": 23,
   "metadata": {},
   "outputs": [],
   "source": [
    "import requests\n",
    "r = requests.get('https://api.openweathermap.org/data/2.5/weather?q=portlaoise&units=metric&APPID=48f2d5e18b0d2bc50519b58cce6409f1')\n",
    "wather_data = r.json()"
   ]
  },
  {
   "cell_type": "code",
   "execution_count": 24,
   "metadata": {},
   "outputs": [
    {
     "output_type": "execute_result",
     "data": {
      "text/plain": [
       "{'coord': {'lon': -7.2998, 'lat': 53.0344},\n",
       " 'weather': [{'id': 502,\n",
       "   'main': 'Rain',\n",
       "   'description': 'heavy intensity rain',\n",
       "   'icon': '10d'}],\n",
       " 'base': 'stations',\n",
       " 'main': {'temp': 14.38,\n",
       "  'feels_like': 14.33,\n",
       "  'temp_min': 14.24,\n",
       "  'temp_max': 15.51,\n",
       "  'pressure': 1021,\n",
       "  'humidity': 94},\n",
       " 'visibility': 4894,\n",
       " 'wind': {'speed': 1.34, 'deg': 224, 'gust': 4.02},\n",
       " 'rain': {'1h': 4.63},\n",
       " 'clouds': {'all': 100},\n",
       " 'dt': 1624561964,\n",
       " 'sys': {'type': 2,\n",
       "  'id': 2035513,\n",
       "  'country': 'IE',\n",
       "  'sunrise': 1624507421,\n",
       "  'sunset': 1624568369},\n",
       " 'timezone': 3600,\n",
       " 'id': 2962026,\n",
       " 'name': 'Portlaoise',\n",
       " 'cod': 200}"
      ]
     },
     "metadata": {},
     "execution_count": 24
    }
   ],
   "source": [
    "wather_data"
   ]
  },
  {
   "cell_type": "code",
   "execution_count": 26,
   "metadata": {},
   "outputs": [
    {
     "output_type": "execute_result",
     "data": {
      "text/plain": [
       "'Portlaoise'"
      ]
     },
     "metadata": {},
     "execution_count": 26
    }
   ],
   "source": [
    "wather_data['name']"
   ]
  },
  {
   "cell_type": "code",
   "execution_count": 29,
   "metadata": {},
   "outputs": [
    {
     "output_type": "execute_result",
     "data": {
      "text/plain": [
       "[{'id': 502,\n",
       "  'main': 'Rain',\n",
       "  'description': 'heavy intensity rain',\n",
       "  'icon': '10d'}]"
      ]
     },
     "metadata": {},
     "execution_count": 29
    }
   ],
   "source": [
    "wather_data['weather']"
   ]
  },
  {
   "cell_type": "code",
   "execution_count": 28,
   "metadata": {},
   "outputs": [
    {
     "output_type": "execute_result",
     "data": {
      "text/plain": [
       "{'type': 2,\n",
       " 'id': 2035513,\n",
       " 'country': 'IE',\n",
       " 'sunrise': 1624507421,\n",
       " 'sunset': 1624568369}"
      ]
     },
     "metadata": {},
     "execution_count": 28
    }
   ],
   "source": [
    "wather_data['sys']"
   ]
  },
  {
   "cell_type": "code",
   "execution_count": 35,
   "metadata": {},
   "outputs": [
    {
     "output_type": "execute_result",
     "data": {
      "text/plain": [
       "str"
      ]
     },
     "metadata": {},
     "execution_count": 35
    }
   ],
   "source": [
    "type(wather_data['weather'][0]['description'])"
   ]
  },
  {
   "cell_type": "code",
   "execution_count": 37,
   "metadata": {},
   "outputs": [
    {
     "output_type": "execute_result",
     "data": {
      "text/plain": [
       "'heavy intensity rain'"
      ]
     },
     "metadata": {},
     "execution_count": 37
    }
   ],
   "source": [
    "wather_data['weather'][0]['description']"
   ]
  },
  {
   "cell_type": "code",
   "execution_count": null,
   "metadata": {},
   "outputs": [],
   "source": []
  }
 ]
}