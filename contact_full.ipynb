{
 "metadata": {
  "language_info": {
   "codemirror_mode": {
    "name": "ipython",
    "version": 3
   },
   "file_extension": ".py",
   "mimetype": "text/x-python",
   "name": "python",
   "nbconvert_exporter": "python",
   "pygments_lexer": "ipython3",
   "version": "3.8.2"
  },
  "orig_nbformat": 4,
  "kernelspec": {
   "name": "python3",
   "display_name": "Python 3.8.2 64-bit"
  },
  "interpreter": {
   "hash": "31f2aee4e71d21fbe5cf8b01ff0e069b9275f58929596ceb00d14d90e3e16cd6"
  }
 },
 "nbformat": 4,
 "nbformat_minor": 2,
 "cells": [
  {
   "cell_type": "code",
   "execution_count": 2,
   "metadata": {},
   "outputs": [],
   "source": [
    "contacts_with_name = {\n",
    "    'a':['ahmad','anas'],\n",
    "    'o': ['osama','omar'],\n",
    "    'j': ['jihad', 'joe']\n",
    "}"
   ]
  },
  {
   "cell_type": "code",
   "execution_count": 21,
   "metadata": {},
   "outputs": [],
   "source": [
    "contact_with_name_nums ={\n",
    "    'a':{\n",
    "        'ahmad': 111111111111,\n",
    "        'anas': 1222222222222\n",
    "    },\n",
    "    'o':{\n",
    "        'osama': [133333333, 'osama@osama.com'],\n",
    "        'omar': 144444444\n",
    "    },\n",
    "    'j':{\n",
    "        'jihad': {\n",
    "            'mobile': 1234567890,\n",
    "            'email': 'jihad@jihad.com'\n",
    "        },\n",
    "        'joe': 16666666666\n",
    "    }\n",
    "}"
   ]
  },
  {
   "cell_type": "code",
   "execution_count": 22,
   "metadata": {},
   "outputs": [
    {
     "output_type": "execute_result",
     "data": {
      "text/plain": [
       "{'a': {'ahmad': 111111111111, 'anas': 1222222222222},\n",
       " 'o': {'osama': [133333333, 'osama@osama.com'], 'omar': 144444444},\n",
       " 'j': {'jihad': {'mobile': 1234567890, 'email': 'jihad@jihad.com'},\n",
       "  'joe': 16666666666}}"
      ]
     },
     "metadata": {},
     "execution_count": 22
    }
   ],
   "source": [
    "contact_with_name_nums"
   ]
  },
  {
   "cell_type": "code",
   "execution_count": 28,
   "metadata": {},
   "outputs": [],
   "source": [
    "mobile_for_jihad = contact_with_name_nums['j']['jihad']['mobile']\n",
    "email_for_jihad = contact_with_name_nums['j']['jihad']['email']"
   ]
  },
  {
   "cell_type": "code",
   "execution_count": 29,
   "metadata": {},
   "outputs": [
    {
     "output_type": "execute_result",
     "data": {
      "text/plain": [
       "1234567890"
      ]
     },
     "metadata": {},
     "execution_count": 29
    }
   ],
   "source": [
    "mobile_for_jihad"
   ]
  },
  {
   "cell_type": "code",
   "execution_count": 30,
   "metadata": {},
   "outputs": [
    {
     "output_type": "execute_result",
     "data": {
      "text/plain": [
       "'jihad@jihad.com'"
      ]
     },
     "metadata": {},
     "execution_count": 30
    }
   ],
   "source": [
    "email_for_jihad"
   ]
  },
  {
   "cell_type": "code",
   "execution_count": null,
   "metadata": {},
   "outputs": [],
   "source": []
  }
 ]
}