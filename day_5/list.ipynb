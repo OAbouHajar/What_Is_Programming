{
 "metadata": {
  "language_info": {
   "codemirror_mode": {
    "name": "ipython",
    "version": 3
   },
   "file_extension": ".py",
   "mimetype": "text/x-python",
   "name": "python",
   "nbconvert_exporter": "python",
   "pygments_lexer": "ipython3",
   "version": "3.8.2"
  },
  "orig_nbformat": 4,
  "kernelspec": {
   "name": "python3",
   "display_name": "Python 3.8.2 64-bit"
  },
  "interpreter": {
   "hash": "31f2aee4e71d21fbe5cf8b01ff0e069b9275f58929596ceb00d14d90e3e16cd6"
  }
 },
 "nbformat": 4,
 "nbformat_minor": 2,
 "cells": [
  {
   "cell_type": "code",
   "execution_count": 5,
   "metadata": {},
   "outputs": [],
   "source": [
    "students = []"
   ]
  },
  {
   "cell_type": "code",
   "execution_count": 3,
   "metadata": {},
   "outputs": [
    {
     "output_type": "execute_result",
     "data": {
      "text/plain": [
       "list"
      ]
     },
     "metadata": {},
     "execution_count": 3
    }
   ],
   "source": [
    "print(type(students))"
   ]
  },
  {
   "cell_type": "code",
   "execution_count": null,
   "metadata": {},
   "outputs": [],
   "source": [
    "# old way without list\n",
    "name1 = 'osama'\n",
    "name2= 'tarik'\n",
    "name3= 'abeer'\n",
    "name50="
   ]
  },
  {
   "cell_type": "code",
   "execution_count": 16,
   "metadata": {},
   "outputs": [],
   "source": [
    "# with list is more memory use\n",
    "            #       0       1           2           3     4           5        \n",
    "students_names = ['osama123131','abeer', 'abdul', 'shirin', 'hajar', 'tarik']"
   ]
  },
  {
   "cell_type": "code",
   "execution_count": 17,
   "metadata": {},
   "outputs": [
    {
     "output_type": "execute_result",
     "data": {
      "text/plain": [
       "list"
      ]
     },
     "metadata": {},
     "execution_count": 17
    }
   ],
   "source": [
    "type(students_names)"
   ]
  },
  {
   "cell_type": "code",
   "execution_count": 18,
   "metadata": {},
   "outputs": [
    {
     "output_type": "execute_result",
     "data": {
      "text/plain": [
       "6"
      ]
     },
     "metadata": {},
     "execution_count": 18
    }
   ],
   "source": [
    "len(students_names)"
   ]
  },
  {
   "cell_type": "code",
   "execution_count": 25,
   "metadata": {},
   "outputs": [
    {
     "output_type": "execute_result",
     "data": {
      "text/plain": [
       "'osama123131'"
      ]
     },
     "metadata": {},
     "execution_count": 25
    }
   ],
   "source": [
    "students_names[0]"
   ]
  },
  {
   "cell_type": "code",
   "execution_count": 26,
   "metadata": {},
   "outputs": [],
   "source": [
    "students_names.append('Naser')"
   ]
  },
  {
   "cell_type": "code",
   "execution_count": 27,
   "metadata": {},
   "outputs": [
    {
     "output_type": "stream",
     "name": "stdout",
     "text": [
      "['osama123131', 'abeer', 'abdul', 'shirin', 'hajar', 'tarik', 'Naser']\n"
     ]
    }
   ],
   "source": [
    "print(students_names)"
   ]
  },
  {
   "cell_type": "code",
   "execution_count": 29,
   "metadata": {},
   "outputs": [
    {
     "output_type": "execute_result",
     "data": {
      "text/plain": [
       "2"
      ]
     },
     "metadata": {},
     "execution_count": 29
    }
   ],
   "source": [
    "# remember we start counting from Zero in programming\n",
    "students_names.index('abdul')"
   ]
  },
  {
   "cell_type": "code",
   "execution_count": 32,
   "metadata": {},
   "outputs": [
    {
     "output_type": "stream",
     "name": "stdout",
     "text": [
      "['osama123131', 'abeer', 'abdul', 'shirin', 'hajar', 'tarik', 'Naser']\n"
     ]
    }
   ],
   "source": [
    "print(students_names)"
   ]
  },
  {
   "cell_type": "code",
   "execution_count": 37,
   "metadata": {},
   "outputs": [
    {
     "output_type": "execute_result",
     "data": {
      "text/plain": [
       "1"
      ]
     },
     "metadata": {},
     "execution_count": 37
    }
   ],
   "source": [
    "students_names.count('Naser')"
   ]
  },
  {
   "cell_type": "code",
   "execution_count": 38,
   "metadata": {},
   "outputs": [],
   "source": [
    "students_names.append('Naser')"
   ]
  },
  {
   "cell_type": "code",
   "execution_count": 39,
   "metadata": {},
   "outputs": [
    {
     "output_type": "execute_result",
     "data": {
      "text/plain": [
       "['osama123131', 'abeer', 'abdul', 'shirin', 'hajar', 'tarik', 'Naser', 'Naser']"
      ]
     },
     "metadata": {},
     "execution_count": 39
    }
   ],
   "source": [
    "students_names"
   ]
  },
  {
   "cell_type": "code",
   "execution_count": 40,
   "metadata": {},
   "outputs": [
    {
     "output_type": "execute_result",
     "data": {
      "text/plain": [
       "2"
      ]
     },
     "metadata": {},
     "execution_count": 40
    }
   ],
   "source": [
    "students_names.count('Naser')"
   ]
  },
  {
   "cell_type": "code",
   "execution_count": 42,
   "metadata": {},
   "outputs": [],
   "source": [
    "students_names.remove('Naser')"
   ]
  },
  {
   "cell_type": "code",
   "execution_count": 43,
   "metadata": {},
   "outputs": [
    {
     "output_type": "execute_result",
     "data": {
      "text/plain": [
       "['osama123131', 'abeer', 'abdul', 'shirin', 'hajar', 'tarik', 'Naser']"
      ]
     },
     "metadata": {},
     "execution_count": 43
    }
   ],
   "source": [
    "students_names"
   ]
  },
  {
   "cell_type": "code",
   "execution_count": 48,
   "metadata": {},
   "outputs": [],
   "source": [
    "students_names.insert(0,'Naser')"
   ]
  },
  {
   "cell_type": "code",
   "execution_count": 49,
   "metadata": {},
   "outputs": [
    {
     "output_type": "execute_result",
     "data": {
      "text/plain": [
       "['Naser', 'osama123131', 'abeer', 'abdul', 'shirin', 'hajar', 'tarik', 'Naser']"
      ]
     },
     "metadata": {},
     "execution_count": 49
    }
   ],
   "source": [
    "students_names"
   ]
  },
  {
   "cell_type": "code",
   "execution_count": 51,
   "metadata": {},
   "outputs": [],
   "source": [
    "students_names[7] = 'Sam'"
   ]
  },
  {
   "cell_type": "code",
   "execution_count": 52,
   "metadata": {},
   "outputs": [
    {
     "output_type": "execute_result",
     "data": {
      "text/plain": [
       "['Naser', 'osama123131', 'abeer', 'abdul', 'shirin', 'hajar', 'tarik', 'Sam']"
      ]
     },
     "metadata": {},
     "execution_count": 52
    }
   ],
   "source": [
    "students_names"
   ]
  },
  {
   "cell_type": "code",
   "execution_count": 54,
   "metadata": {},
   "outputs": [],
   "source": [
    "students_names[1] = \"Osama\""
   ]
  },
  {
   "cell_type": "code",
   "execution_count": 55,
   "metadata": {},
   "outputs": [
    {
     "output_type": "execute_result",
     "data": {
      "text/plain": [
       "['Naser', 'Osama', 'abeer', 'abdul', 'shirin', 'hajar', 'tarik', 'Sam']"
      ]
     },
     "metadata": {},
     "execution_count": 55
    }
   ],
   "source": [
    "students_names"
   ]
  },
  {
   "cell_type": "code",
   "execution_count": 63,
   "metadata": {},
   "outputs": [],
   "source": [
    "students_names[6] = 'Tarik'"
   ]
  },
  {
   "cell_type": "code",
   "execution_count": 64,
   "metadata": {},
   "outputs": [
    {
     "output_type": "execute_result",
     "data": {
      "text/plain": [
       "['Naser', 'Osama', 'abeer', 'abdul', 'shirin', 'hajar', 'Tarik', 'Sam']"
      ]
     },
     "metadata": {},
     "execution_count": 64
    }
   ],
   "source": [
    "students_names"
   ]
  },
  {
   "cell_type": "code",
   "execution_count": 65,
   "metadata": {},
   "outputs": [],
   "source": [
    "temp = students_names[6]\n",
    "students_names[6] = students_names[1]\n"
   ]
  },
  {
   "cell_type": "code",
   "execution_count": 66,
   "metadata": {},
   "outputs": [
    {
     "output_type": "execute_result",
     "data": {
      "text/plain": [
       "['Naser', 'Osama', 'abeer', 'abdul', 'shirin', 'hajar', 'Osama', 'Sam']"
      ]
     },
     "metadata": {},
     "execution_count": 66
    }
   ],
   "source": [
    "students_names"
   ]
  },
  {
   "cell_type": "code",
   "execution_count": 67,
   "metadata": {},
   "outputs": [],
   "source": [
    "students_names[1] = temp"
   ]
  },
  {
   "cell_type": "code",
   "execution_count": 69,
   "metadata": {},
   "outputs": [
    {
     "output_type": "execute_result",
     "data": {
      "text/plain": [
       "['Naser', 'Tarik', 'abeer', 'abdul', 'shirin', 'hajar', 'Osama', 'Sam']"
      ]
     },
     "metadata": {},
     "execution_count": 69
    }
   ],
   "source": [
    "students_names"
   ]
  },
  {
   "cell_type": "code",
   "execution_count": 72,
   "metadata": {},
   "outputs": [
    {
     "output_type": "stream",
     "name": "stdout",
     "text": [
      "NO\n"
     ]
    }
   ],
   "source": [
    "if 'Jack' in students_names:\n",
    "    print('LIDE')\n",
    "else:\n",
    "    print(\"ALDI\")"
   ]
  },
  {
   "cell_type": "code",
   "execution_count": 74,
   "metadata": {},
   "outputs": [],
   "source": [
    "            # five lists in a list\n",
    "shopping_list =[[],[],[],[],[]]\n"
   ]
  },
  {
   "cell_type": "code",
   "execution_count": 79,
   "metadata": {},
   "outputs": [],
   "source": [
    "shopping_list[0] = ['apple','bread', 'orange']"
   ]
  },
  {
   "cell_type": "code",
   "execution_count": 80,
   "metadata": {},
   "outputs": [
    {
     "output_type": "execute_result",
     "data": {
      "text/plain": [
       "[['apple', 'bread', 'orange'], [], [], [], []]"
      ]
     },
     "metadata": {},
     "execution_count": 80
    }
   ],
   "source": [
    "shopping_list"
   ]
  },
  {
   "cell_type": "code",
   "execution_count": 81,
   "metadata": {},
   "outputs": [],
   "source": [
    "shopping_list[1] = ['water','cola', 'toast']"
   ]
  },
  {
   "cell_type": "code",
   "execution_count": 82,
   "metadata": {},
   "outputs": [
    {
     "output_type": "execute_result",
     "data": {
      "text/plain": [
       "[['apple', 'bread', 'orange'], ['water', 'cola', 'toast'], [], [], []]"
      ]
     },
     "metadata": {},
     "execution_count": 82
    }
   ],
   "source": [
    "shopping_list"
   ]
  },
  {
   "cell_type": "code",
   "execution_count": 83,
   "metadata": {},
   "outputs": [],
   "source": [
    "shopping_lists = [\n",
    "                ['toast', 'tea','coffe'], #pos 0, LIDL\n",
    "                ['tomatos','cucumber', 'apple'], #pos 1 ALDI\n",
    "                ['bread', 'honey', 'almond', True], #pos 2 TESCO\n",
    "                ['ice cream', 'egg', 'croissant'], #pos 3 DUNNES\n",
    "                [True, 500] #pos 4 OTHER\n",
    "                ]\n"
   ]
  },
  {
   "cell_type": "code",
   "execution_count": 84,
   "metadata": {},
   "outputs": [
    {
     "output_type": "execute_result",
     "data": {
      "text/plain": [
       "[['toast', 'tea', 'coffe'],\n",
       " ['tomatos', 'cucumber', 'apple'],\n",
       " ['bread', 'honey', 'almond', True],\n",
       " ['ice cream', 'egg', 'croissant'],\n",
       " [True, 500]]"
      ]
     },
     "metadata": {},
     "execution_count": 84
    }
   ],
   "source": [
    "shopping_lists"
   ]
  },
  {
   "cell_type": "code",
   "execution_count": 85,
   "metadata": {},
   "outputs": [
    {
     "output_type": "execute_result",
     "data": {
      "text/plain": [
       "['ice cream', 'egg', 'croissant']"
      ]
     },
     "metadata": {},
     "execution_count": 85
    }
   ],
   "source": [
    "shopping_lists[3]"
   ]
  },
  {
   "cell_type": "code",
   "execution_count": 87,
   "metadata": {},
   "outputs": [
    {
     "output_type": "stream",
     "name": "stdout",
     "text": [
      "ice cream\negg\ncroissant\n"
     ]
    }
   ],
   "source": [
    "for item in shopping_lists[3]:\n",
    "    print(item) "
   ]
  },
  {
   "cell_type": "code",
   "execution_count": 89,
   "metadata": {},
   "outputs": [
    {
     "output_type": "stream",
     "name": "stdout",
     "text": [
      "['toast', 'tea', 'coffe']\n['tomatos', 'cucumber', 'apple']\n['bread', 'honey', 'almond', True]\n['ice cream', 'egg', 'croissant']\n[True, 500]\n"
     ]
    }
   ],
   "source": [
    "for list_n in shopping_lists:\n",
    "    print(list_n) "
   ]
  },
  {
   "cell_type": "code",
   "execution_count": 102,
   "metadata": {},
   "outputs": [],
   "source": [
    "shopping_lists = [\n",
    "                ['LIDL','toast', 'tea','coffe'], #pos 0, LIDL\n",
    "                ['ALDI','tomatos','cucumber', 'apple'], #pos 1 ALDI\n",
    "                ['TESCO','bread', 'honey', 'almond', True], #pos 2 TESCO\n",
    "                [\"DUNNES\",'ice cream', 'egg', 'croissant'], #pos 3 DUNNES\n",
    "                [500] #pos 4 number only\n",
    "                ]"
   ]
  },
  {
   "cell_type": "code",
   "execution_count": 109,
   "metadata": {},
   "outputs": [
    {
     "output_type": "stream",
     "name": "stdout",
     "text": [
      "SHOPE:  LIDL\nITEMS ['toast', 'tea', 'coffe']\nSHOPE:  ALDI\nITEMS ['tomatos', 'cucumber', 'apple']\nSHOPE:  TESCO\nITEMS ['bread', 'honey', 'almond', True]\nSHOPE:  DUNNES\nITEMS ['ice cream', 'egg', 'croissant']\nSHOPE:  500\nITEMS []\n"
     ]
    }
   ],
   "source": [
    "for list_n in shopping_lists:\n",
    "    print('SHOPE: ',list_n[0])\n",
    "    print('ITEMS', list_n[1:])"
   ]
  },
  {
   "cell_type": "code",
   "execution_count": 111,
   "metadata": {},
   "outputs": [
    {
     "output_type": "stream",
     "name": "stdout",
     "text": [
      "SHOPE:  LIDL\nITEM: toast\nITEM: tea\nITEM: coffe\nSHOPE:  ALDI\nITEM: tomatos\nITEM: cucumber\nITEM: apple\nSHOPE:  TESCO\nITEM: bread\nITEM: honey\nITEM: almond\nITEM: True\nSHOPE:  DUNNES\nITEM: ice cream\nITEM: egg\nITEM: croissant\nSHOPE:  500\n"
     ]
    }
   ],
   "source": [
    "for list_n in shopping_lists:\n",
    "    print('SHOPE: ',list_n[0])\n",
    "    for item in list_n[1:]:\n",
    "        print(\"ITEM:\", item)"
   ]
  },
  {
   "cell_type": "code",
   "execution_count": 112,
   "metadata": {},
   "outputs": [
    {
     "output_type": "execute_result",
     "data": {
      "text/plain": [
       "['Naser', 'Tarik', 'abeer', 'abdul', 'shirin', 'hajar', 'Osama', 'Sam']"
      ]
     },
     "metadata": {},
     "execution_count": 112
    }
   ],
   "source": [
    "students_names"
   ]
  },
  {
   "cell_type": "code",
   "execution_count": 113,
   "metadata": {},
   "outputs": [],
   "source": [
    "students_names.sort()"
   ]
  },
  {
   "cell_type": "code",
   "execution_count": 114,
   "metadata": {},
   "outputs": [
    {
     "output_type": "execute_result",
     "data": {
      "text/plain": [
       "['Naser', 'Osama', 'Sam', 'Tarik', 'abdul', 'abeer', 'hajar', 'shirin']"
      ]
     },
     "metadata": {},
     "execution_count": 114
    }
   ],
   "source": [
    "students_names"
   ]
  },
  {
   "cell_type": "code",
   "execution_count": 119,
   "metadata": {},
   "outputs": [],
   "source": [
    "marks = [23,34,34,77,90,23,90,23,100]"
   ]
  },
  {
   "cell_type": "code",
   "execution_count": 120,
   "metadata": {},
   "outputs": [
    {
     "output_type": "error",
     "ename": "TypeError",
     "evalue": "'<' not supported between instances of 'str' and 'int'",
     "traceback": [
      "\u001b[0;31m---------------------------------------------------------------------------\u001b[0m",
      "\u001b[0;31mTypeError\u001b[0m                                 Traceback (most recent call last)",
      "\u001b[0;32m<ipython-input-120-399195aa810f>\u001b[0m in \u001b[0;36m<module>\u001b[0;34m\u001b[0m\n\u001b[0;32m----> 1\u001b[0;31m \u001b[0mmarks\u001b[0m\u001b[0;34m.\u001b[0m\u001b[0msort\u001b[0m\u001b[0;34m(\u001b[0m\u001b[0;34m)\u001b[0m\u001b[0;34m\u001b[0m\u001b[0;34m\u001b[0m\u001b[0m\n\u001b[0m",
      "\u001b[0;31mTypeError\u001b[0m: '<' not supported between instances of 'str' and 'int'"
     ]
    }
   ],
   "source": [
    "marks.sort()"
   ]
  },
  {
   "cell_type": "code",
   "execution_count": 118,
   "metadata": {},
   "outputs": [
    {
     "output_type": "execute_result",
     "data": {
      "text/plain": [
       "[12, 23, 23, 34, 55, 77, 88, 90, 100]"
      ]
     },
     "metadata": {},
     "execution_count": 118
    }
   ],
   "source": [
    "marks"
   ]
  },
  {
   "cell_type": "code",
   "execution_count": 127,
   "metadata": {},
   "outputs": [],
   "source": [
    "marks = [23,34,34,77,90,23,90,23,100,34,34,77,90,23,90,23,34,34,77,90,23,90,23,34,34,77,90,23,90,23,34,34,77,90,23,90,23,34,34,77,90,23,90,23,34,34,77,90,23,90,23,34,34,77,90,23,90,23,34,34,77,90,23,90,23,34,34,77,90,23,90,23,34,34,77,90,23,90,23,34,34,77,90,23,90,23,34,34,77,90,23,90,23,34,34,77,90,23,90,23,34,34,77,90,23,90,23,34,34,77,90,23,90,23,34,34,77,90,23,90,23,34,34,77,90,23,90,23,34,34,77,90,23,90,23,34,34,77,90,23,90,23,34,34,77,90,23,90,23]"
   ]
  },
  {
   "cell_type": "code",
   "execution_count": 129,
   "metadata": {},
   "outputs": [
    {
     "output_type": "execute_result",
     "data": {
      "text/plain": [
       "list"
      ]
     },
     "metadata": {},
     "execution_count": 129
    }
   ],
   "source": [
    "type(marks)"
   ]
  },
  {
   "cell_type": "code",
   "execution_count": 132,
   "metadata": {},
   "outputs": [],
   "source": [
    "marks_uniqe = set([23,34,34,77,90,23,90,23,100,34,34,77,90,23,90,23,34,34,77,90,23,90,23,34,34,77,90,23,90,23,34,34,77,90,23,90,23,34,34,77,90,23,90,23,34,34,77,90,23,90,23,34,34,77,90,23,90,23,34,34,77,90,23,90,23,34,34,77,90,23,90,23,34,34,77,90,23,90,23,34,34,77,90,23,90,23,34,34,77,90,23,90,23,34,34,77,90,23,90,23,34,34,77,90,23,90,23,34,34,77,90,23,90,23,34,34,77,90,23,90,23,34,34,77,90,23,90,23,34,34,77,90,23,90,23,34,34,77,90,23,90,23,34,34,77,90,23,90,23])"
   ]
  },
  {
   "cell_type": "code",
   "execution_count": 134,
   "metadata": {},
   "outputs": [
    {
     "output_type": "execute_result",
     "data": {
      "text/plain": [
       "{23, 34, 77, 90, 100}"
      ]
     },
     "metadata": {},
     "execution_count": 134
    }
   ],
   "source": [
    "marks_uniqe"
   ]
  },
  {
   "cell_type": "code",
   "execution_count": 143,
   "metadata": {},
   "outputs": [],
   "source": [
    "num1 = set((1,2,4,4,5))"
   ]
  },
  {
   "cell_type": "code",
   "execution_count": 144,
   "metadata": {},
   "outputs": [],
   "source": [
    "num2 = set((1,3,5,6,7))"
   ]
  },
  {
   "cell_type": "code",
   "execution_count": 145,
   "metadata": {},
   "outputs": [
    {
     "output_type": "execute_result",
     "data": {
      "text/plain": [
       "{1, 2, 3, 4, 5, 6, 7}"
      ]
     },
     "metadata": {},
     "execution_count": 145
    }
   ],
   "source": [
    "num3 = num1.union(num2)\n",
    "num3"
   ]
  },
  {
   "cell_type": "code",
   "execution_count": 146,
   "metadata": {},
   "outputs": [
    {
     "output_type": "execute_result",
     "data": {
      "text/plain": [
       "{2, 4}"
      ]
     },
     "metadata": {},
     "execution_count": 146
    }
   ],
   "source": [
    "num4 = num1.difference(num2)\n",
    "num4"
   ]
  },
  {
   "cell_type": "code",
   "execution_count": null,
   "metadata": {},
   "outputs": [],
   "source": []
  }
 ]
}